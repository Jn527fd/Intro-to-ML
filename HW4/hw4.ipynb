{
 "cells": [
  {
   "cell_type": "markdown",
   "metadata": {},
   "source": [
    "## Name : Jesus Naranjo\n",
    "## ID : 1371403\n"
   ]
  },
  {
   "cell_type": "markdown",
   "metadata": {},
   "source": [
    "## HW04 Code\n",
    "\n",
    "You will complete the following notebook, as described in the PDF for Homework 04 (included in the download with the starter code).  You will submit:\n",
    "1. This notebook file (`hw04.ipynb`), `implementation.py`, and two files for both trees images, i.e., `full`, `full.pdf`, `simple`, and `simple.pdf` (PDFs and text files generated using `graphviz` within the code). HINT: `render()`, and it should be clear when to use it, i.e., #3). Compress all files mentioned and submit to the Gradescope link for code.\n",
    "2. A PDF of this notebook and all of its output, once it is completed, to the Gradescope link for the PDF.\n",
    "\n",
    "\n",
    "Please report any questions to the [class Piazza page](https://piazza.com/class/lcwv1h9p2a11ai/)."
   ]
  },
  {
   "cell_type": "markdown",
   "metadata": {},
   "source": [
    "### Import required libraries."
   ]
  },
  {
   "cell_type": "code",
   "execution_count": 88,
   "metadata": {},
   "outputs": [
    {
     "name": "stdout",
     "output_type": "stream",
     "text": [
      "The autoreload extension is already loaded. To reload it, use:\n",
      "  %reload_ext autoreload\n"
     ]
    }
   ],
   "source": [
    "import numpy as np\n",
    "import pandas as pd\n",
    "\n",
    "import sklearn.tree\n",
    "import graphviz\n",
    "\n",
    "from implementation import information_remainder, counting_heuristic, set_entropy\n",
    "\n",
    "%load_ext autoreload\n",
    "%autoreload 2"
   ]
  },
  {
   "cell_type": "markdown",
   "metadata": {},
   "source": [
    "## Decision Trees\n",
    "\n",
    "You should start by computing the two heuristic values for the toy data described in the assignment handout. You should then load the two versions of the abalone data, compute the two heuristic values on features (for the simplified data), and then build decision trees for each set of data."
   ]
  },
  {
   "cell_type": "markdown",
   "metadata": {},
   "source": [
    "### 1 Compute both heuristics for toy data."
   ]
  },
  {
   "cell_type": "code",
   "execution_count": 89,
   "metadata": {},
   "outputs": [],
   "source": [
    "feature_names = np.array([\"A\", \"B\"])\n",
    "feature_len = 2\n",
    "classes = [0, 1]\n",
    "\n",
    "x_set = np.array([[1, 1], [1, 1], [0, 1], [0, 0],\n",
    "        [0, 1], [0, 0], [0, 0], [0, 0]])\n",
    "y_set = np.array([0, 0, 0, 0, 1, 1, 1, 1])"
   ]
  },
  {
   "cell_type": "markdown",
   "metadata": {},
   "source": [
    "#### (a) Compute the counting-based heuristic, and order the features by it."
   ]
  },
  {
   "cell_type": "code",
   "execution_count": 106,
   "metadata": {},
   "outputs": [
    {
     "name": "stdout",
     "output_type": "stream",
     "text": [
      "B: 6/8\n",
      "A: 6/8\n"
     ]
    }
   ],
   "source": [
    "sort_correct = []  \n",
    "correct = []\n",
    "sort_names = []\n",
    "for i in range(feature_len):\n",
    "    correct.append(counting_heuristic(x_set, y_set, i, classes))\n",
    "    \n",
    "sort_indicies = np.argsort(correct)[::-1]\n",
    "sort_names = feature_names[sort_indicies]\n",
    "sort_correct = [correct[i] for i in sort_indicies]\n",
    "\n",
    "# Print the sorted features along with their correct predictions count in the smaller dataset\n",
    "longest = max(len(name) for name in sort_names)\n",
    "for name, correct in zip(sort_names, sort_correct):\n",
    "    print(\"%*s: %d/%d\" % (longest, name, correct, len(x_set)))"
   ]
  },
  {
   "cell_type": "markdown",
   "metadata": {},
   "source": [
    "#### (b) Compute the information-theoretic heuristic, and order the features by it."
   ]
  },
  {
   "cell_type": "code",
   "execution_count": 105,
   "metadata": {
    "scrolled": true
   },
   "outputs": [
    {
     "name": "stdout",
     "output_type": "stream",
     "text": [
      "A: 0.311\n",
      "B: 0.189\n"
     ]
    }
   ],
   "source": [
    "sort_gains = [] \n",
    "sort_names_by_gains = []\n",
    "new_list1 = []\n",
    "new_list2 = []\n",
    "\n",
    "for i in range(feature_len):\n",
    "    sort_gains.append(information_remainder(x_set, y_set, i, classes))\n",
    "    sort_names_by_gains.append(feature_names[i]) \n",
    "\n",
    "for i in np.argsort(sort_gains)[::-1]:\n",
    "    new_list1.append(sort_gains[i])\n",
    "    new_list2.append(sort_names_by_gains[i])\n",
    "sort_gains = new_list1\n",
    "sort_indices = new_list2\n",
    "\n",
    "longest = max(len(name) for name in sort_names_by_gains)\n",
    "for name, gain in zip(sort_names_by_gains, sort_gains):\n",
    "    print(\"%*s: %.3f\" % (longest, name, gain))"
   ]
  },
  {
   "cell_type": "markdown",
   "metadata": {},
   "source": [
    "#### (c) Discussion of results.\n",
    "\n",
    "*TODO*"
   ]
  },
  {
   "cell_type": "markdown",
   "metadata": {},
   "source": [
    "### 2 Compute both heuristics for simplified abalone data."
   ]
  },
  {
   "cell_type": "code",
   "execution_count": 98,
   "metadata": {},
   "outputs": [],
   "source": [
    "# full-feature abalone data\n",
    "x_train = np.loadtxt('data_abalone/x_train.csv', skiprows=1, delimiter=',')\n",
    "x_test = np.loadtxt('data_abalone/x_test.csv', skiprows=1, delimiter=',')\n",
    "y_train = np.loadtxt('data_abalone/y_train.csv', skiprows=1, delimiter=',')\n",
    "y_test = np.loadtxt('data_abalone/y_test.csv', skiprows=1, delimiter=',')\n",
    "\n",
    "# simplified version of the data (Restricted-feature)\n",
    "simple_x_train = np.loadtxt('data_abalone/small_binary_x_train.csv', skiprows=1, delimiter=',')\n",
    "simple_x_test = np.loadtxt('data_abalone/small_binary_x_test.csv', skiprows=1, delimiter=',')\n",
    "simple_y_train = np.loadtxt('data_abalone/3class_y_train.csv', skiprows=1, delimiter=',')\n",
    "simple_y_test = np.loadtxt('data_abalone/3class_y_test.csv', skiprows=1, delimiter=',')\n",
    "\n",
    "# TODO:fix the empty lists below\n",
    "full_feature_names = np.loadtxt('data_abalone/x_train.csv',delimiter=',', max_rows=1, dtype = str)\n",
    "simple_feature_names = np.loadtxt('data_abalone/small_binary_x_train.csv',delimiter=',', max_rows=1, dtype = str)\n",
    "classes_abalone = [0,1,2] # unique set of class labels\n",
    "class_names = ['small','medium','large'] # name of the classes"
   ]
  },
  {
   "cell_type": "markdown",
   "metadata": {},
   "source": [
    "#### (a) Compute the counting-based heuristic, and order the features by it."
   ]
  },
  {
   "cell_type": "code",
   "execution_count": 104,
   "metadata": {},
   "outputs": [
    {
     "name": "stdout",
     "output_type": "stream",
     "text": [
      "height_mm: 2316/3176\n",
      "  diam_mm: 2266/3176\n",
      "length_mm: 2230/3176\n",
      "  is_male: 1864/3176\n"
     ]
    }
   ],
   "source": [
    "correct_abalone = []\n",
    "for i in range(simple_x_train.shape[1]):\n",
    "    correct_abalone.append(counting_heuristic(simple_x_train, simple_y_train, i, classes_abalone))\n",
    "\n",
    "sort_correct_abalone, sort_names_abalone = zip(*sorted(zip(correct_abalone, simple_feature_names), reverse=True))\n",
    "\n",
    "# Print the sorted features along with their correct predictions count in the smaller dataset\n",
    "longest = max(len(name) for name in sort_names_abalone)\n",
    "for name, correct in zip(sort_names_abalone, sort_correct_abalone):\n",
    "    print(\"%*s: %d/%d\" % (longest, name, correct, len(simple_x_train)))"
   ]
  },
  {
   "cell_type": "markdown",
   "metadata": {},
   "source": [
    "#### (b) Compute the information-theoretic heuristic, and order the features by it."
   ]
  },
  {
   "cell_type": "code",
   "execution_count": 110,
   "metadata": {
    "scrolled": true
   },
   "outputs": [
    {
     "name": "stdout",
     "output_type": "stream",
     "text": [
      "height_mm: 0.173\n",
      "  diam_mm: 0.150\n",
      "length_mm: 0.135\n",
      "  is_male: 0.025\n"
     ]
    }
   ],
   "source": [
    "sort_gains_abalone = []\n",
    "sort_names_by_gains_abalone = []\n",
    "\n",
    "for i in range(len(simple_feature_names)):\n",
    "    sort_gains_abalone.append(information_remainder(simple_x_train, simple_y_train, i, classes_abalone))\n",
    "    sort_names_by_gains_abalone.append(simple_feature_names[i]) \n",
    "    \n",
    "sort_indices = np.argsort(sort_gains_abalone)[::-1]\n",
    "sort_gains_abalone = [sort_gains_abalone[i] for i in sort_indices]\n",
    "sort_names_by_gains_abalone = [sort_names_by_gains_abalone[i] for i in sort_indices]\n",
    "\n",
    "longest = max(len(name) for name in sort_names_by_gains_abalone)\n",
    "for name, gain in zip(sort_names_by_gains_abalone, sort_gains_abalone):\n",
    "    print(\"%*s: %.3f\" % (longest, name, gain))"
   ]
  },
  {
   "cell_type": "markdown",
   "metadata": {},
   "source": [
    "### 3) Generate decision trees (criterion='entropy', random_state=42) for full- and simple-feature data"
   ]
  },
  {
   "cell_type": "markdown",
   "metadata": {},
   "source": [
    "#### (a) Train and eval on entire train and test sets. Print accuracy values and generate tree images.\n",
    "\n",
    "Render the tree diagram, naming it \"full.\" A text file and PDF should be created and saved (i.e., `full` and `full.pdf`) - include both in submission."
   ]
  },
  {
   "cell_type": "code",
   "execution_count": 112,
   "metadata": {},
   "outputs": [
    {
     "name": "stdout",
     "output_type": "stream",
     "text": [
      "Accuracy (train): 1.000\n",
      "Accuracy  (test): 0.204\n"
     ]
    },
    {
     "name": "stderr",
     "output_type": "stream",
     "text": [
      "\n",
      "(process:31672): GLib-GIO-WARNING **: 21:17:21.260: Unexpectedly, UWP app `Clipchamp.Clipchamp_2.5.15.0_neutral__yxz26nhyzhsrt' (AUMId `Clipchamp.Clipchamp_yxz26nhyzhsrt!App') supports 41 extensions but has no verbs\n",
      "\n",
      "(process:31672): GLib-GIO-WARNING **: 21:17:21.366: Unexpectedly, UWP app `Microsoft.ScreenSketch_11.2302.20.0_x64__8wekyb3d8bbwe' (AUMId `Microsoft.ScreenSketch_8wekyb3d8bbwe!App') supports 29 extensions but has no verbs\n"
     ]
    },
    {
     "data": {
      "text/plain": [
       "'full.pdf'"
      ]
     },
     "execution_count": 112,
     "metadata": {},
     "output_type": "execute_result"
    }
   ],
   "source": [
    "clf = sklearn.tree.DecisionTreeClassifier(criterion='entropy', random_state=42)\n",
    "\n",
    "clf.fit(x_train, y_train)\n",
    "train_accuracy = clf.score(x_train, y_train)\n",
    "test_accuracy = clf.score(x_test, y_test)\n",
    "print(f\"Accuracy (train): {train_accuracy:.3f}\")\n",
    "print(f\"Accuracy  (test): {test_accuracy:.3f}\")\n",
    "\n",
    "# tree image\n",
    "tree = sklearn.tree.export_graphviz(clf, feature_names=full_feature_names, filled = True)\n",
    "graph1 = graphviz.Source(tree)\n",
    "graph1.render(\"full\")"
   ]
  },
  {
   "cell_type": "markdown",
   "metadata": {},
   "source": [
    "#### (b) Restricted-feature (aka simple) data.\n",
    "Train and eval on simple train and test sets. Same as above, accept this time use the `simple` set. Render the tree diagram, naming it \"simple.\" A text file and PDF should be created and saved (i.e., `simple` and `simple.pdf`) - include both in submission."
   ]
  },
  {
   "cell_type": "code",
   "execution_count": 113,
   "metadata": {},
   "outputs": [
    {
     "name": "stdout",
     "output_type": "stream",
     "text": [
      "Accuracy (train): 0.733\n",
      "Accuracy  (test): 0.722\n"
     ]
    },
    {
     "data": {
      "text/plain": [
       "'simple.pdf'"
      ]
     },
     "execution_count": 113,
     "metadata": {},
     "output_type": "execute_result"
    }
   ],
   "source": [
    "simple_clf = sklearn.tree.DecisionTreeClassifier(criterion='entropy', random_state=42)\n",
    "\n",
    "simple_clf.fit(simple_x_train, simple_y_train)\n",
    "simple_train_accuracy = simple_clf.score(simple_x_train, simple_y_train)\n",
    "simple_test_accuracy = simple_clf.score(simple_x_test, simple_y_test)\n",
    "print(f\"Accuracy (train): {simple_train_accuracy:.3f}\")\n",
    "print(f\"Accuracy  (test): {simple_test_accuracy:.3f}\")\n",
    "\n",
    "# tree image\n",
    "simple_tree = sklearn.tree.export_graphviz(simple_clf, feature_names=simple_feature_names, class_names=class_names, filled = True)\n",
    "graph2 = graphviz.Source(simple_tree)\n",
    "graph2.render(\"simple\")"
   ]
  },
  {
   "cell_type": "markdown",
   "metadata": {},
   "source": [
    "#### (c) Discuss the results seen for the two trees\n",
    "\n",
    "*TODO*"
   ]
  },
  {
   "cell_type": "code",
   "execution_count": null,
   "metadata": {},
   "outputs": [],
   "source": []
  }
 ],
 "metadata": {
  "kernelspec": {
   "display_name": "Python 3 (ipykernel)",
   "language": "python",
   "name": "python3"
  },
  "language_info": {
   "codemirror_mode": {
    "name": "ipython",
    "version": 3
   },
   "file_extension": ".py",
   "mimetype": "text/x-python",
   "name": "python",
   "nbconvert_exporter": "python",
   "pygments_lexer": "ipython3",
   "version": "3.9.13"
  }
 },
 "nbformat": 4,
 "nbformat_minor": 4
}
